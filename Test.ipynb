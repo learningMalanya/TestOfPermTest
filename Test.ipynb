{
 "cells": [
  {
   "cell_type": "code",
   "execution_count": 74,
   "id": "43b08510",
   "metadata": {},
   "outputs": [],
   "source": [
    "using Pkg\n",
    "using StatsBase\n",
    "using Random\n",
    "using Distributions\n",
    "using DataFrames\n",
    "using Combinatorics"
   ]
  },
  {
   "cell_type": "markdown",
   "id": "4e4cdc62",
   "metadata": {},
   "source": [
    "## Toy Example"
   ]
  },
  {
   "cell_type": "markdown",
   "id": "82b350ea",
   "metadata": {},
   "source": [
    "Consider we would like to know if JiuJiu prefer beef or pork as treat or is neutral, we want to test   "
   ]
  },
  {
   "cell_type": "markdown",
   "id": "3217c31a",
   "metadata": {},
   "source": [
    "$$H_0: \\mu_b = \\mu_p$$\n",
    "$$H_1: \\mu_b > \\mu_p$$"
   ]
  },
  {
   "cell_type": "markdown",
   "id": "4ee08e3c",
   "metadata": {},
   "source": [
    "and will confirm that she prefers beef if $H_0$ is rejected."
   ]
  },
  {
   "cell_type": "markdown",
   "id": "13b521df",
   "metadata": {},
   "source": [
    "We then perform our study - for a study period of 20 days, we pick 10 days to feed JiuJiu beef, and the other days to feed her pork. The days we feed her with beef are:"
   ]
  },
  {
   "cell_type": "code",
   "execution_count": 60,
   "id": "ff40819e",
   "metadata": {},
   "outputs": [
    {
     "data": {
      "text/plain": [
       "10-element Vector{Int64}:\n",
       "  1\n",
       "  3\n",
       "  4\n",
       "  5\n",
       "  6\n",
       "  8\n",
       " 12\n",
       " 16\n",
       " 19\n",
       " 20"
      ]
     },
     "execution_count": 60,
     "metadata": {},
     "output_type": "execute_result"
    }
   ],
   "source": [
    "days = randperm(20);\n",
    "beef = sort(days[1:10]);\n",
    "beef"
   ]
  },
  {
   "cell_type": "code",
   "execution_count": 61,
   "id": "d3cd2215",
   "metadata": {},
   "outputs": [
    {
     "data": {
      "text/plain": [
       "10-element Vector{Int64}:\n",
       "  2\n",
       "  7\n",
       "  9\n",
       " 10\n",
       " 11\n",
       " 13\n",
       " 14\n",
       " 15\n",
       " 17\n",
       " 18"
      ]
     },
     "execution_count": 61,
     "metadata": {},
     "output_type": "execute_result"
    }
   ],
   "source": [
    "pork = sort(days[11:20]);\n",
    "pork"
   ]
  },
  {
   "cell_type": "markdown",
   "id": "1e9d9f08",
   "metadata": {},
   "source": [
    "And on each date, we feed 10 treats of the chosen kind. The number of treats eaten on each date are recorded as "
   ]
  },
  {
   "cell_type": "code",
   "execution_count": 62,
   "id": "284a9e5d",
   "metadata": {},
   "outputs": [],
   "source": [
    "eaten = [4,3,5,0,5,4,5,6,1,7,6,3,7,1,3,6,3,5,1,2];"
   ]
  },
  {
   "cell_type": "code",
   "execution_count": 63,
   "id": "d5551a97",
   "metadata": {},
   "outputs": [
    {
     "data": {
      "text/plain": [
       "36"
      ]
     },
     "execution_count": 63,
     "metadata": {},
     "output_type": "execute_result"
    }
   ],
   "source": [
    "sum(eaten[beef]) ## 40 beef treats were eaten"
   ]
  },
  {
   "cell_type": "code",
   "execution_count": 64,
   "id": "17662425",
   "metadata": {},
   "outputs": [
    {
     "data": {
      "text/plain": [
       "41"
      ]
     },
     "execution_count": 64,
     "metadata": {},
     "output_type": "execute_result"
    }
   ],
   "source": [
    "sum(eaten[pork]) ## 37 beef treats were eaten"
   ]
  },
  {
   "cell_type": "code",
   "execution_count": 65,
   "id": "a01111a2",
   "metadata": {},
   "outputs": [],
   "source": [
    "foodType = fill(\"B\", 20);\n",
    "foodType[pork] .= \"P\";\n",
    "foodType;"
   ]
  },
  {
   "cell_type": "code",
   "execution_count": 66,
   "id": "2f73d71f",
   "metadata": {},
   "outputs": [],
   "source": [
    "maxAmount = fill(10, 20);"
   ]
  },
  {
   "cell_type": "code",
   "execution_count": 68,
   "id": "a2e2b3ea",
   "metadata": {},
   "outputs": [
    {
     "data": {
      "text/html": [
       "<table class=\"data-frame\"><thead><tr><th></th><th>Eaten</th><th>MaxPossible</th><th>Type</th></tr><tr><th></th><th>Int64</th><th>Int64</th><th>String</th></tr></thead><tbody><p>20 rows × 3 columns</p><tr><th>1</th><td>4</td><td>10</td><td>B</td></tr><tr><th>2</th><td>3</td><td>10</td><td>P</td></tr><tr><th>3</th><td>5</td><td>10</td><td>B</td></tr><tr><th>4</th><td>0</td><td>10</td><td>B</td></tr><tr><th>5</th><td>5</td><td>10</td><td>B</td></tr><tr><th>6</th><td>4</td><td>10</td><td>B</td></tr><tr><th>7</th><td>5</td><td>10</td><td>P</td></tr><tr><th>8</th><td>6</td><td>10</td><td>B</td></tr><tr><th>9</th><td>1</td><td>10</td><td>P</td></tr><tr><th>10</th><td>7</td><td>10</td><td>P</td></tr><tr><th>11</th><td>6</td><td>10</td><td>P</td></tr><tr><th>12</th><td>3</td><td>10</td><td>B</td></tr><tr><th>13</th><td>7</td><td>10</td><td>P</td></tr><tr><th>14</th><td>1</td><td>10</td><td>P</td></tr><tr><th>15</th><td>3</td><td>10</td><td>P</td></tr><tr><th>16</th><td>6</td><td>10</td><td>B</td></tr><tr><th>17</th><td>3</td><td>10</td><td>P</td></tr><tr><th>18</th><td>5</td><td>10</td><td>P</td></tr><tr><th>19</th><td>1</td><td>10</td><td>B</td></tr><tr><th>20</th><td>2</td><td>10</td><td>B</td></tr></tbody></table>"
      ],
      "text/latex": [
       "\\begin{tabular}{r|ccc}\n",
       "\t& Eaten & MaxPossible & Type\\\\\n",
       "\t\\hline\n",
       "\t& Int64 & Int64 & String\\\\\n",
       "\t\\hline\n",
       "\t1 & 4 & 10 & B \\\\\n",
       "\t2 & 3 & 10 & P \\\\\n",
       "\t3 & 5 & 10 & B \\\\\n",
       "\t4 & 0 & 10 & B \\\\\n",
       "\t5 & 5 & 10 & B \\\\\n",
       "\t6 & 4 & 10 & B \\\\\n",
       "\t7 & 5 & 10 & P \\\\\n",
       "\t8 & 6 & 10 & B \\\\\n",
       "\t9 & 1 & 10 & P \\\\\n",
       "\t10 & 7 & 10 & P \\\\\n",
       "\t11 & 6 & 10 & P \\\\\n",
       "\t12 & 3 & 10 & B \\\\\n",
       "\t13 & 7 & 10 & P \\\\\n",
       "\t14 & 1 & 10 & P \\\\\n",
       "\t15 & 3 & 10 & P \\\\\n",
       "\t16 & 6 & 10 & B \\\\\n",
       "\t17 & 3 & 10 & P \\\\\n",
       "\t18 & 5 & 10 & P \\\\\n",
       "\t19 & 1 & 10 & B \\\\\n",
       "\t20 & 2 & 10 & B \\\\\n",
       "\\end{tabular}\n"
      ],
      "text/plain": [
       "\u001b[1m20×3 DataFrame\u001b[0m\n",
       "\u001b[1m Row \u001b[0m│\u001b[1m Eaten \u001b[0m\u001b[1m MaxPossible \u001b[0m\u001b[1m Type   \u001b[0m\n",
       "\u001b[1m     \u001b[0m│\u001b[90m Int64 \u001b[0m\u001b[90m Int64       \u001b[0m\u001b[90m String \u001b[0m\n",
       "─────┼────────────────────────────\n",
       "   1 │     4           10  B\n",
       "   2 │     3           10  P\n",
       "   3 │     5           10  B\n",
       "   4 │     0           10  B\n",
       "   5 │     5           10  B\n",
       "   6 │     4           10  B\n",
       "   7 │     5           10  P\n",
       "   8 │     6           10  B\n",
       "   9 │     1           10  P\n",
       "  10 │     7           10  P\n",
       "  11 │     6           10  P\n",
       "  12 │     3           10  B\n",
       "  13 │     7           10  P\n",
       "  14 │     1           10  P\n",
       "  15 │     3           10  P\n",
       "  16 │     6           10  B\n",
       "  17 │     3           10  P\n",
       "  18 │     5           10  P\n",
       "  19 │     1           10  B\n",
       "  20 │     2           10  B"
      ]
     },
     "execution_count": 68,
     "metadata": {},
     "output_type": "execute_result"
    }
   ],
   "source": [
    "JJEat = DataFrame(Eaten = eaten, MaxPossible = maxAmount, Type = foodType)"
   ]
  },
  {
   "cell_type": "code",
   "execution_count": 77,
   "id": "9e7c63d7",
   "metadata": {},
   "outputs": [
    {
     "data": {
      "text/plain": [
       "Base.Generator{Combinatorics.Combinations, Combinatorics.var\"#reorder#10\"{Vector{Int64}}}(Combinatorics.var\"#reorder#10\"{Vector{Int64}}([1, 2, 3, 4, 5, 6, 7, 8, 9, 10, 11, 12, 13, 14, 15, 16, 17, 18, 19, 20]), Combinatorics.Combinations(20, 10))"
      ]
     },
     "execution_count": 77,
     "metadata": {},
     "output_type": "execute_result"
    }
   ],
   "source": [
    "combos = combinations(sort(days), 10)"
   ]
  },
  {
   "cell_type": "code",
   "execution_count": 79,
   "id": "e19217d4",
   "metadata": {},
   "outputs": [
    {
     "data": {
      "text/plain": [
       "Base.Generator{Combinatorics.Combinations, Combinatorics.var\"#reorder#10\"{Vector{Int64}}}"
      ]
     },
     "execution_count": 79,
     "metadata": {},
     "output_type": "execute_result"
    }
   ],
   "source": [
    "typeof(combos)"
   ]
  },
  {
   "cell_type": "code",
   "execution_count": null,
   "id": "1db46a72",
   "metadata": {},
   "outputs": [],
   "source": [
    "for combo in combos\n",
    "    println(combo)\n",
    "end"
   ]
  },
  {
   "cell_type": "code",
   "execution_count": 80,
   "id": "fb2f502e",
   "metadata": {},
   "outputs": [
    {
     "data": {
      "text/plain": [
       "184756"
      ]
     },
     "execution_count": 80,
     "metadata": {},
     "output_type": "execute_result"
    }
   ],
   "source": [
    "binomial(20, 10)"
   ]
  },
  {
   "cell_type": "code",
   "execution_count": null,
   "id": "e92cb590",
   "metadata": {},
   "outputs": [],
   "source": []
  }
 ],
 "metadata": {
  "kernelspec": {
   "display_name": "Julia 1.6.2",
   "language": "julia",
   "name": "julia-1.6"
  },
  "language_info": {
   "file_extension": ".jl",
   "mimetype": "application/julia",
   "name": "julia",
   "version": "1.6.2"
  }
 },
 "nbformat": 4,
 "nbformat_minor": 5
}
